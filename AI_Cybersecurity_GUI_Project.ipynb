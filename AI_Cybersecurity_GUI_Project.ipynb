{
  "cells": [
    {
      "cell_type": "markdown",
      "metadata": {},
      "source": [
        "# \ud83d\udd10 Cybersecurity Threat Detection Using AI - GUI Version (Tkinter)\n",
        "\n",
        "This notebook allows you to:\n",
        "- Train a Random Forest model on the KDD Cup 1999 dataset\n",
        "- Launch a GUI to upload CSV files and detect attacks\n",
        "- Save predictions to a new CSV file"
      ]
    },
    {
      "cell_type": "code",
      "execution_count": null,
      "metadata": {},
      "outputs": [],
      "source": [
        "# \u2705 Step 1: Install required libraries\n",
        "!pip install pandas scikit-learn matplotlib seaborn"
      ]
    },
    {
      "cell_type": "code",
      "execution_count": null,
      "metadata": {},
      "outputs": [],
      "source": [
        "# \u2705 Step 2: Import Libraries\n",
        "import tkinter as tk\n",
        "from tkinter import filedialog, messagebox\n",
        "import pandas as pd\n",
        "from sklearn.ensemble import RandomForestClassifier\n",
        "from sklearn.model_selection import train_test_split\n",
        "from sklearn.preprocessing import LabelEncoder\n",
        "from sklearn.metrics import accuracy_score"
      ]
    },
    {
      "cell_type": "code",
      "execution_count": null,
      "metadata": {},
      "outputs": [],
      "source": [
        "# \u2705 Step 3: Train the Model\n",
        "def train_model():\n",
        "    df = pd.read_csv(\"kddcup.csv\", nrows=10000)  # Change to full for large training\n",
        "\n",
        "    for col in df.select_dtypes(include=['object']).columns:\n",
        "        df[col] = LabelEncoder().fit_transform(df[col])\n",
        "\n",
        "    X = df.drop(\"label\", axis=1)\n",
        "    y = df[\"label\"].apply(lambda x: 0 if x == 'normal' else 1)\n",
        "\n",
        "    X_train, X_test, y_train, y_test = train_test_split(X, y, test_size=0.3, random_state=42)\n",
        "    model = RandomForestClassifier(n_estimators=100, random_state=42)\n",
        "    model.fit(X_train, y_train)\n",
        "\n",
        "    acc = accuracy_score(y_test, model.predict(X_test))\n",
        "    return model, acc\n",
        "\n",
        "model, accuracy = train_model()\n",
        "print(f\"\u2705 Model Trained | Accuracy: {accuracy*100:.2f}%\")"
      ]
    },
    {
      "cell_type": "code",
      "execution_count": null,
      "metadata": {},
      "outputs": [],
      "source": [
        "# \u2705 Step 4: Create GUI to Upload CSV and Predict\n",
        "def browse_file():\n",
        "    file_path = filedialog.askopenfilename(filetypes=[(\"CSV Files\", \"*.csv\")])\n",
        "    if not file_path:\n",
        "        return\n",
        "\n",
        "    try:\n",
        "        df = pd.read_csv(file_path)\n",
        "        for col in df.select_dtypes(include=['object']).columns:\n",
        "            df[col] = LabelEncoder().fit_transform(df[col])\n",
        "        predictions = model.predict(df)\n",
        "        result = pd.DataFrame({'Prediction': predictions})\n",
        "        result['Prediction'] = result['Prediction'].apply(lambda x: \"Normal\" if x == 0 else \"Attack\")\n",
        "        result_file = \"predicted_results.csv\"\n",
        "        result.to_csv(result_file, index=False)\n",
        "        messagebox.showinfo(\"Success\", f\"Predictions saved to {result_file}\")\n",
        "    except Exception as e:\n",
        "        messagebox.showerror(\"Error\", str(e))\n",
        "\n",
        "app = tk.Tk()\n",
        "app.title(\"Cybersecurity Threat Detection using AI\")\n",
        "app.geometry(\"400x200\")\n",
        "\n",
        "label = tk.Label(app, text=f\"Model Trained - Accuracy: {accuracy*100:.2f}%\", font=(\"Arial\", 12))\n",
        "label.pack(pady=10)\n",
        "\n",
        "btn = tk.Button(app, text=\"Upload CSV to Detect Threats\", command=browse_file, font=(\"Arial\", 12))\n",
        "btn.pack(pady=20)\n",
        "\n",
        "app.mainloop()"
      ]
    }
  ],
  "metadata": {
    "kernelspec": {
      "display_name": "Python 3",
      "language": "python",
      "name": "python3"
    },
    "language_info": {
      "name": "python",
      "version": ""
    }
  },
  "nbformat": 4,
  "nbformat_minor": 5
}